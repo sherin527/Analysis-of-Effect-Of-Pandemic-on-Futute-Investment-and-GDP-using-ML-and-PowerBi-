{
 "cells": [
  {
   "cell_type": "code",
   "execution_count": 3,
   "metadata": {
    "colab": {
     "base_uri": "https://localhost:8080/",
     "height": 73,
     "resources": {
      "http://localhost:8080/nbextensions/google.colab/files.js": {
       "data": "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",
       "headers": [
        [
         "content-type",
         "application/javascript"
        ]
       ],
       "ok": true,
       "status": 200,
       "status_text": ""
      }
     }
    },
    "id": "bB_cVvnrda_1",
    "outputId": "20d886a1-d79d-4438-ca83-aa30accd9e35"
   },
   "outputs": [
    {
     "data": {
      "text/html": [
       "\n",
       "     <input type=\"file\" id=\"files-64df62c1-979a-422d-b173-7059d7f786df\" name=\"files[]\" multiple disabled\n",
       "        style=\"border:none\" />\n",
       "     <output id=\"result-64df62c1-979a-422d-b173-7059d7f786df\">\n",
       "      Upload widget is only available when the cell has been executed in the\n",
       "      current browser session. Please rerun this cell to enable.\n",
       "      </output>\n",
       "      <script src=\"/nbextensions/google.colab/files.js\"></script> "
      ],
      "text/plain": [
       "<IPython.core.display.HTML object>"
      ]
     },
     "metadata": {
      "tags": []
     },
     "output_type": "display_data"
    },
    {
     "name": "stdout",
     "output_type": "stream",
     "text": [
      "Saving IFC_Investment_Services_Projects__India.csv to IFC_Investment_Services_Projects__India.csv\n"
     ]
    }
   ],
   "source": [
    "from google.colab import files\n",
    "uploaded = files.upload()"
   ]
  },
  {
   "cell_type": "code",
   "execution_count": 4,
   "metadata": {
    "id": "Gx7CqhJhdyiZ"
   },
   "outputs": [],
   "source": [
    "import io\n",
    "import pandas as pd\n",
    "import seaborn as sns\n",
    "import matplotlib.pyplot as plt\n",
    "%matplotlib inline\n",
    "sns.set(color_codes=True)\n",
    "\n",
    "#loading the data into data frame\n",
    "df = pd.read_csv(io.BytesIO(uploaded['IFC_Investment_Services_Projects__India.csv']))"
   ]
  },
  {
   "cell_type": "code",
   "execution_count": 5,
   "metadata": {
    "colab": {
     "base_uri": "https://localhost:8080/",
     "height": 569
    },
    "id": "Mf4tkUpoeAAd",
    "outputId": "76dfd897-2572-44a3-ca1d-760d0fcb12b4"
   },
   "outputs": [
    {
     "data": {
      "text/html": [
       "<div>\n",
       "<style scoped>\n",
       "    .dataframe tbody tr th:only-of-type {\n",
       "        vertical-align: middle;\n",
       "    }\n",
       "\n",
       "    .dataframe tbody tr th {\n",
       "        vertical-align: top;\n",
       "    }\n",
       "\n",
       "    .dataframe thead th {\n",
       "        text-align: right;\n",
       "    }\n",
       "</style>\n",
       "<table border=\"1\" class=\"dataframe\">\n",
       "  <thead>\n",
       "    <tr style=\"text-align: right;\">\n",
       "      <th></th>\n",
       "      <th>Date Disclosed</th>\n",
       "      <th>Project Name</th>\n",
       "      <th>Document Type</th>\n",
       "      <th>Project Number</th>\n",
       "      <th>Product Line</th>\n",
       "      <th>Company Name</th>\n",
       "      <th>Country</th>\n",
       "      <th>IFC Country Code</th>\n",
       "      <th>Sector</th>\n",
       "      <th>Environmental Category</th>\n",
       "      <th>Department</th>\n",
       "      <th>Status</th>\n",
       "      <th>Projected Board Date</th>\n",
       "      <th>IFC investment for Risk Management(Million - USD)</th>\n",
       "      <th>IFC investment for Guarantee(Million - USD)</th>\n",
       "      <th>IFC investment for Loan(Million - USD)</th>\n",
       "      <th>IFC investment for Equity(Million - USD)</th>\n",
       "      <th>Total IFC investment as approved by Board(Million - USD)</th>\n",
       "      <th>WB Country Code</th>\n",
       "      <th>As of Date</th>\n",
       "    </tr>\n",
       "  </thead>\n",
       "  <tbody>\n",
       "    <tr>\n",
       "      <th>0</th>\n",
       "      <td>01/08/2021</td>\n",
       "      <td>RSE COVID Parag</td>\n",
       "      <td>Summary of Investment Information</td>\n",
       "      <td>43983</td>\n",
       "      <td>Loan</td>\n",
       "      <td>Parag Milk Foods Limited</td>\n",
       "      <td>India</td>\n",
       "      <td>IND</td>\n",
       "      <td>Agribusiness and Forestry</td>\n",
       "      <td>B</td>\n",
       "      <td>Regional Industry - MAS Asia &amp; Pac</td>\n",
       "      <td>Pending</td>\n",
       "      <td>10/06/2020</td>\n",
       "      <td>NaN</td>\n",
       "      <td>NaN</td>\n",
       "      <td>41.19</td>\n",
       "      <td>NaN</td>\n",
       "      <td>41.19</td>\n",
       "      <td>IN</td>\n",
       "      <td>01/18/2021 09:37:00 PM</td>\n",
       "    </tr>\n",
       "    <tr>\n",
       "      <th>1</th>\n",
       "      <td>01/04/2021</td>\n",
       "      <td>Provident Housing</td>\n",
       "      <td>Summary of Investment Information</td>\n",
       "      <td>43201</td>\n",
       "      <td>Loan</td>\n",
       "      <td>PURAVANKARA LIMITED</td>\n",
       "      <td>India</td>\n",
       "      <td>IND</td>\n",
       "      <td>other</td>\n",
       "      <td>B</td>\n",
       "      <td>Regional Industry - MAS Asia &amp; Pac</td>\n",
       "      <td>Active</td>\n",
       "      <td>11/09/2020</td>\n",
       "      <td>NaN</td>\n",
       "      <td>NaN</td>\n",
       "      <td>10.20</td>\n",
       "      <td>32.2</td>\n",
       "      <td>42.40</td>\n",
       "      <td>IN</td>\n",
       "      <td>01/18/2021 09:37:00 PM</td>\n",
       "    </tr>\n",
       "    <tr>\n",
       "      <th>2</th>\n",
       "      <td>12/21/2020</td>\n",
       "      <td>Stellaris Venture Partners India Trust II</td>\n",
       "      <td>Summary of Investment Information</td>\n",
       "      <td>44917</td>\n",
       "      <td>NaN</td>\n",
       "      <td>STELLARIS ADVISORS LLP</td>\n",
       "      <td>India</td>\n",
       "      <td>IND</td>\n",
       "      <td>Funds</td>\n",
       "      <td>FI-3</td>\n",
       "      <td>Disruptive Technologies and Funds</td>\n",
       "      <td>Pending</td>\n",
       "      <td>02/12/2021</td>\n",
       "      <td>NaN</td>\n",
       "      <td>NaN</td>\n",
       "      <td>NaN</td>\n",
       "      <td>NaN</td>\n",
       "      <td>NaN</td>\n",
       "      <td>IN</td>\n",
       "      <td>01/18/2021 09:37:00 PM</td>\n",
       "    </tr>\n",
       "    <tr>\n",
       "      <th>3</th>\n",
       "      <td>11/12/2020</td>\n",
       "      <td>NCML Silos</td>\n",
       "      <td>Summary of Investment Information</td>\n",
       "      <td>43587</td>\n",
       "      <td>Loan</td>\n",
       "      <td>NCML BASTI PRIVATE LIMITED</td>\n",
       "      <td>India</td>\n",
       "      <td>IND</td>\n",
       "      <td>Infrastructure</td>\n",
       "      <td>B</td>\n",
       "      <td>Regional Industry - INF Asia &amp; Pac</td>\n",
       "      <td>Pending</td>\n",
       "      <td>12/14/2020</td>\n",
       "      <td>NaN</td>\n",
       "      <td>NaN</td>\n",
       "      <td>46.66</td>\n",
       "      <td>NaN</td>\n",
       "      <td>46.66</td>\n",
       "      <td>IN</td>\n",
       "      <td>01/18/2021 09:37:00 PM</td>\n",
       "    </tr>\n",
       "    <tr>\n",
       "      <th>4</th>\n",
       "      <td>10/22/2020</td>\n",
       "      <td>Netafim India</td>\n",
       "      <td>Summary of Investment Information</td>\n",
       "      <td>44420</td>\n",
       "      <td>NaN</td>\n",
       "      <td>NETAFIM IRRIGATION INDIA PRIVATE LIMITED</td>\n",
       "      <td>India</td>\n",
       "      <td>IND</td>\n",
       "      <td>Agribusiness and Forestry</td>\n",
       "      <td>B</td>\n",
       "      <td>Regional Industry - MAS Asia &amp; Pac</td>\n",
       "      <td>Pending</td>\n",
       "      <td>11/20/2020</td>\n",
       "      <td>NaN</td>\n",
       "      <td>NaN</td>\n",
       "      <td>NaN</td>\n",
       "      <td>NaN</td>\n",
       "      <td>NaN</td>\n",
       "      <td>IN</td>\n",
       "      <td>01/18/2021 09:37:00 PM</td>\n",
       "    </tr>\n",
       "  </tbody>\n",
       "</table>\n",
       "</div>"
      ],
      "text/plain": [
       "  Date Disclosed  ...              As of Date\n",
       "0     01/08/2021  ...  01/18/2021 09:37:00 PM\n",
       "1     01/04/2021  ...  01/18/2021 09:37:00 PM\n",
       "2     12/21/2020  ...  01/18/2021 09:37:00 PM\n",
       "3     11/12/2020  ...  01/18/2021 09:37:00 PM\n",
       "4     10/22/2020  ...  01/18/2021 09:37:00 PM\n",
       "\n",
       "[5 rows x 20 columns]"
      ]
     },
     "execution_count": 5,
     "metadata": {
      "tags": []
     },
     "output_type": "execute_result"
    }
   ],
   "source": [
    "#displaying top 5 rows\n",
    "df.head(5)"
   ]
  },
  {
   "cell_type": "code",
   "execution_count": 6,
   "metadata": {
    "colab": {
     "base_uri": "https://localhost:8080/",
     "height": 586
    },
    "id": "YztP0Szthwl1",
    "outputId": "101f04ff-9f27-4082-e8a8-1c37ce84f2f0"
   },
   "outputs": [
    {
     "data": {
      "text/html": [
       "<div>\n",
       "<style scoped>\n",
       "    .dataframe tbody tr th:only-of-type {\n",
       "        vertical-align: middle;\n",
       "    }\n",
       "\n",
       "    .dataframe tbody tr th {\n",
       "        vertical-align: top;\n",
       "    }\n",
       "\n",
       "    .dataframe thead th {\n",
       "        text-align: right;\n",
       "    }\n",
       "</style>\n",
       "<table border=\"1\" class=\"dataframe\">\n",
       "  <thead>\n",
       "    <tr style=\"text-align: right;\">\n",
       "      <th></th>\n",
       "      <th>Date Disclosed</th>\n",
       "      <th>Project Name</th>\n",
       "      <th>Document Type</th>\n",
       "      <th>Project Number</th>\n",
       "      <th>Product Line</th>\n",
       "      <th>Company Name</th>\n",
       "      <th>Country</th>\n",
       "      <th>IFC Country Code</th>\n",
       "      <th>Sector</th>\n",
       "      <th>Environmental Category</th>\n",
       "      <th>Department</th>\n",
       "      <th>Status</th>\n",
       "      <th>Projected Board Date</th>\n",
       "      <th>IFC investment for Risk Management(Million - USD)</th>\n",
       "      <th>IFC investment for Guarantee(Million - USD)</th>\n",
       "      <th>IFC investment for Loan(Million - USD)</th>\n",
       "      <th>IFC investment for Equity(Million - USD)</th>\n",
       "      <th>Total IFC investment as approved by Board(Million - USD)</th>\n",
       "      <th>WB Country Code</th>\n",
       "      <th>As of Date</th>\n",
       "    </tr>\n",
       "  </thead>\n",
       "  <tbody>\n",
       "    <tr>\n",
       "      <th>376</th>\n",
       "      <td>11/20/2000</td>\n",
       "      <td>Oriental Carbon and Chemicals Ltd.</td>\n",
       "      <td>Summary of Proposed Investment</td>\n",
       "      <td>10223</td>\n",
       "      <td>Loan</td>\n",
       "      <td>CONTINENTAL CARBON INDIA LIMITED</td>\n",
       "      <td>India</td>\n",
       "      <td>IND</td>\n",
       "      <td>other</td>\n",
       "      <td>B</td>\n",
       "      <td>Gbl Ind, Manufact, Agribus &amp;amp; Services</td>\n",
       "      <td>Completed</td>\n",
       "      <td>01/30/2001</td>\n",
       "      <td>NaN</td>\n",
       "      <td>NaN</td>\n",
       "      <td>9.0</td>\n",
       "      <td>NaN</td>\n",
       "      <td>9.00</td>\n",
       "      <td>IN</td>\n",
       "      <td>01/18/2021 09:37:00 PM</td>\n",
       "    </tr>\n",
       "    <tr>\n",
       "      <th>377</th>\n",
       "      <td>10/12/2000</td>\n",
       "      <td>Bharti Telecom</td>\n",
       "      <td>Summary of Proposed Investment</td>\n",
       "      <td>10379</td>\n",
       "      <td>Guarantee</td>\n",
       "      <td>BHARTI AIRTEL LIMITED</td>\n",
       "      <td>India</td>\n",
       "      <td>IND</td>\n",
       "      <td>other</td>\n",
       "      <td>B</td>\n",
       "      <td>Gbl Infrastructure &amp; Natural Resources</td>\n",
       "      <td>Completed</td>\n",
       "      <td>11/15/2000</td>\n",
       "      <td>NaN</td>\n",
       "      <td>50.0</td>\n",
       "      <td>NaN</td>\n",
       "      <td>20.00</td>\n",
       "      <td>70.00</td>\n",
       "      <td>IN</td>\n",
       "      <td>01/18/2021 09:37:00 PM</td>\n",
       "    </tr>\n",
       "    <tr>\n",
       "      <th>378</th>\n",
       "      <td>09/21/2000</td>\n",
       "      <td>GEF PVMTI Shell Renewables</td>\n",
       "      <td>Summary of Proposed Investment</td>\n",
       "      <td>505600</td>\n",
       "      <td>NaN</td>\n",
       "      <td>UNKNOWN</td>\n",
       "      <td>India</td>\n",
       "      <td>IND</td>\n",
       "      <td>Infrastructure</td>\n",
       "      <td>C</td>\n",
       "      <td>Sustainable Business Advisory Dept</td>\n",
       "      <td>Completed</td>\n",
       "      <td>10/23/2000</td>\n",
       "      <td>NaN</td>\n",
       "      <td>NaN</td>\n",
       "      <td>NaN</td>\n",
       "      <td>NaN</td>\n",
       "      <td>NaN</td>\n",
       "      <td>IN</td>\n",
       "      <td>01/18/2021 09:37:00 PM</td>\n",
       "    </tr>\n",
       "    <tr>\n",
       "      <th>379</th>\n",
       "      <td>08/09/2000</td>\n",
       "      <td>Interlink Communications Ltd.</td>\n",
       "      <td>Summary of Proposed Investment</td>\n",
       "      <td>10312</td>\n",
       "      <td>Equity</td>\n",
       "      <td>HEARTLAND INFORMATION SERVICES, INC</td>\n",
       "      <td>India</td>\n",
       "      <td>IND</td>\n",
       "      <td>other</td>\n",
       "      <td>C</td>\n",
       "      <td>TMT, Venture Capital &amp;amp; Funds</td>\n",
       "      <td>Completed</td>\n",
       "      <td>09/11/2000</td>\n",
       "      <td>NaN</td>\n",
       "      <td>NaN</td>\n",
       "      <td>NaN</td>\n",
       "      <td>2.00</td>\n",
       "      <td>2.00</td>\n",
       "      <td>IN</td>\n",
       "      <td>01/18/2021 09:37:00 PM</td>\n",
       "    </tr>\n",
       "    <tr>\n",
       "      <th>380</th>\n",
       "      <td>08/04/2000</td>\n",
       "      <td>Eximbank West LB Factoring Co., Ltd.</td>\n",
       "      <td>Summary of Proposed Investment</td>\n",
       "      <td>10191</td>\n",
       "      <td>Loan</td>\n",
       "      <td>SBI GLOBAL FACTORS LIMITED</td>\n",
       "      <td>India</td>\n",
       "      <td>IND</td>\n",
       "      <td>other</td>\n",
       "      <td>C</td>\n",
       "      <td>Global Industry, Financial Markets</td>\n",
       "      <td>Completed</td>\n",
       "      <td>09/19/2000</td>\n",
       "      <td>NaN</td>\n",
       "      <td>NaN</td>\n",
       "      <td>10.0</td>\n",
       "      <td>2.41</td>\n",
       "      <td>12.41</td>\n",
       "      <td>IN</td>\n",
       "      <td>01/18/2021 09:37:00 PM</td>\n",
       "    </tr>\n",
       "  </tbody>\n",
       "</table>\n",
       "</div>"
      ],
      "text/plain": [
       "    Date Disclosed  ...              As of Date\n",
       "376     11/20/2000  ...  01/18/2021 09:37:00 PM\n",
       "377     10/12/2000  ...  01/18/2021 09:37:00 PM\n",
       "378     09/21/2000  ...  01/18/2021 09:37:00 PM\n",
       "379     08/09/2000  ...  01/18/2021 09:37:00 PM\n",
       "380     08/04/2000  ...  01/18/2021 09:37:00 PM\n",
       "\n",
       "[5 rows x 20 columns]"
      ]
     },
     "execution_count": 6,
     "metadata": {
      "tags": []
     },
     "output_type": "execute_result"
    }
   ],
   "source": [
    "#displaying bottom 5 rows\n",
    "df.tail(5)"
   ]
  },
  {
   "cell_type": "markdown",
   "metadata": {
    "id": "4d_x0Z2AQmOU"
   },
   "source": [
    "Data Preprocessing"
   ]
  },
  {
   "cell_type": "code",
   "execution_count": 7,
   "metadata": {
    "colab": {
     "base_uri": "https://localhost:8080/"
    },
    "id": "mKIX5mLBh6pt",
    "outputId": "6e1d3739-03dc-4e89-a6cb-856f8fac7af4"
   },
   "outputs": [
    {
     "data": {
      "text/plain": [
       "Date Disclosed                                               object\n",
       "Project Name                                                 object\n",
       "Document Type                                                object\n",
       "Project Number                                                int64\n",
       "Product Line                                                 object\n",
       "Company Name                                                 object\n",
       "Country                                                      object\n",
       "IFC Country Code                                             object\n",
       "Sector                                                       object\n",
       "Environmental Category                                       object\n",
       "Department                                                   object\n",
       "Status                                                       object\n",
       "Projected Board Date                                         object\n",
       "IFC investment for Risk Management(Million - USD)           float64\n",
       "IFC investment for Guarantee(Million - USD)                 float64\n",
       "IFC investment for Loan(Million - USD)                      float64\n",
       "IFC investment for Equity(Million - USD)                    float64\n",
       "Total IFC investment as approved by Board(Million - USD)    float64\n",
       "WB Country Code                                              object\n",
       "As of Date                                                   object\n",
       "dtype: object"
      ]
     },
     "execution_count": 7,
     "metadata": {
      "tags": []
     },
     "output_type": "execute_result"
    }
   ],
   "source": [
    "#checking data type\n",
    "df.dtypes"
   ]
  },
  {
   "cell_type": "code",
   "execution_count": 9,
   "metadata": {
    "colab": {
     "base_uri": "https://localhost:8080/",
     "height": 433
    },
    "id": "8-UhBX6leDQV",
    "outputId": "57b7d4f3-a575-4f84-d519-fd11486c3c65"
   },
   "outputs": [
    {
     "data": {
      "text/html": [
       "<div>\n",
       "<style scoped>\n",
       "    .dataframe tbody tr th:only-of-type {\n",
       "        vertical-align: middle;\n",
       "    }\n",
       "\n",
       "    .dataframe tbody tr th {\n",
       "        vertical-align: top;\n",
       "    }\n",
       "\n",
       "    .dataframe thead th {\n",
       "        text-align: right;\n",
       "    }\n",
       "</style>\n",
       "<table border=\"1\" class=\"dataframe\">\n",
       "  <thead>\n",
       "    <tr style=\"text-align: right;\">\n",
       "      <th></th>\n",
       "      <th>IFC investment for Risk Management(Million - USD)</th>\n",
       "      <th>IFC investment for Guarantee(Million - USD)</th>\n",
       "      <th>IFC investment for Loan(Million - USD)</th>\n",
       "      <th>IFC investment for Equity(Million - USD)</th>\n",
       "      <th>Total IFC investment as approved by Board(Million - USD)</th>\n",
       "    </tr>\n",
       "  </thead>\n",
       "  <tbody>\n",
       "    <tr>\n",
       "      <th>0</th>\n",
       "      <td>NaN</td>\n",
       "      <td>NaN</td>\n",
       "      <td>41.19</td>\n",
       "      <td>NaN</td>\n",
       "      <td>41.19</td>\n",
       "    </tr>\n",
       "    <tr>\n",
       "      <th>1</th>\n",
       "      <td>NaN</td>\n",
       "      <td>NaN</td>\n",
       "      <td>10.20</td>\n",
       "      <td>32.20</td>\n",
       "      <td>42.40</td>\n",
       "    </tr>\n",
       "    <tr>\n",
       "      <th>2</th>\n",
       "      <td>NaN</td>\n",
       "      <td>NaN</td>\n",
       "      <td>NaN</td>\n",
       "      <td>NaN</td>\n",
       "      <td>NaN</td>\n",
       "    </tr>\n",
       "    <tr>\n",
       "      <th>3</th>\n",
       "      <td>NaN</td>\n",
       "      <td>NaN</td>\n",
       "      <td>46.66</td>\n",
       "      <td>NaN</td>\n",
       "      <td>46.66</td>\n",
       "    </tr>\n",
       "    <tr>\n",
       "      <th>4</th>\n",
       "      <td>NaN</td>\n",
       "      <td>NaN</td>\n",
       "      <td>NaN</td>\n",
       "      <td>NaN</td>\n",
       "      <td>NaN</td>\n",
       "    </tr>\n",
       "    <tr>\n",
       "      <th>...</th>\n",
       "      <td>...</td>\n",
       "      <td>...</td>\n",
       "      <td>...</td>\n",
       "      <td>...</td>\n",
       "      <td>...</td>\n",
       "    </tr>\n",
       "    <tr>\n",
       "      <th>376</th>\n",
       "      <td>NaN</td>\n",
       "      <td>NaN</td>\n",
       "      <td>9.00</td>\n",
       "      <td>NaN</td>\n",
       "      <td>9.00</td>\n",
       "    </tr>\n",
       "    <tr>\n",
       "      <th>377</th>\n",
       "      <td>NaN</td>\n",
       "      <td>50.0</td>\n",
       "      <td>NaN</td>\n",
       "      <td>20.00</td>\n",
       "      <td>70.00</td>\n",
       "    </tr>\n",
       "    <tr>\n",
       "      <th>378</th>\n",
       "      <td>NaN</td>\n",
       "      <td>NaN</td>\n",
       "      <td>NaN</td>\n",
       "      <td>NaN</td>\n",
       "      <td>NaN</td>\n",
       "    </tr>\n",
       "    <tr>\n",
       "      <th>379</th>\n",
       "      <td>NaN</td>\n",
       "      <td>NaN</td>\n",
       "      <td>NaN</td>\n",
       "      <td>2.00</td>\n",
       "      <td>2.00</td>\n",
       "    </tr>\n",
       "    <tr>\n",
       "      <th>380</th>\n",
       "      <td>NaN</td>\n",
       "      <td>NaN</td>\n",
       "      <td>10.00</td>\n",
       "      <td>2.41</td>\n",
       "      <td>12.41</td>\n",
       "    </tr>\n",
       "  </tbody>\n",
       "</table>\n",
       "<p>381 rows × 5 columns</p>\n",
       "</div>"
      ],
      "text/plain": [
       "     IFC investment for Risk Management(Million - USD)  ...  Total IFC investment as approved by Board(Million - USD)\n",
       "0                                                  NaN  ...                                              41.19       \n",
       "1                                                  NaN  ...                                              42.40       \n",
       "2                                                  NaN  ...                                                NaN       \n",
       "3                                                  NaN  ...                                              46.66       \n",
       "4                                                  NaN  ...                                                NaN       \n",
       "..                                                 ...  ...                                                ...       \n",
       "376                                                NaN  ...                                               9.00       \n",
       "377                                                NaN  ...                                              70.00       \n",
       "378                                                NaN  ...                                                NaN       \n",
       "379                                                NaN  ...                                               2.00       \n",
       "380                                                NaN  ...                                              12.41       \n",
       "\n",
       "[381 rows x 5 columns]"
      ]
     },
     "execution_count": 9,
     "metadata": {
      "tags": []
     },
     "output_type": "execute_result"
    }
   ],
   "source": [
    "\n",
    "#dropping irrelevant columns\n",
    "df1 =df.drop(['Date Disclosed','Product Line','Sector','Environmental Category','Department','Status','Project Name','Document Type','Project Number', 'Company Name','Country','IFC Country Code','Projected Board Date','WB Country Code','As of Date'],axis=1)\n",
    "df1"
   ]
  },
  {
   "cell_type": "code",
   "execution_count": 10,
   "metadata": {
    "colab": {
     "base_uri": "https://localhost:8080/"
    },
    "id": "yPhO4tHhiRDS",
    "outputId": "ea75595b-bc00-4808-f0f8-3ed70afb9891"
   },
   "outputs": [
    {
     "data": {
      "text/plain": [
       "(381, 5)"
      ]
     },
     "execution_count": 10,
     "metadata": {
      "tags": []
     },
     "output_type": "execute_result"
    }
   ],
   "source": [
    "df1.shape"
   ]
  },
  {
   "cell_type": "code",
   "execution_count": 11,
   "metadata": {
    "colab": {
     "base_uri": "https://localhost:8080/"
    },
    "id": "duPVC6-HiV1I",
    "outputId": "ff5a4aa7-8033-469f-938c-ddb328f4cedd"
   },
   "outputs": [
    {
     "name": "stdout",
     "output_type": "stream",
     "text": [
      "number of duplicate rows:  (134, 5)\n"
     ]
    }
   ],
   "source": [
    "# Rows containing duplicate data\n",
    "duplicate_rows_df = df1[df1.duplicated()]\n",
    "print(\"number of duplicate rows: \", duplicate_rows_df.shape)"
   ]
  },
  {
   "cell_type": "code",
   "execution_count": 12,
   "metadata": {
    "colab": {
     "base_uri": "https://localhost:8080/"
    },
    "id": "rLkmrMvqjeRI",
    "outputId": "146bd6ce-932e-41f7-a238-4e989796ce47"
   },
   "outputs": [
    {
     "data": {
      "text/plain": [
       "IFC investment for Risk Management(Million - USD)             4\n",
       "IFC investment for Guarantee(Million - USD)                   3\n",
       "IFC investment for Loan(Million - USD)                      242\n",
       "IFC investment for Equity(Million - USD)                    196\n",
       "Total IFC investment as approved by Board(Million - USD)    369\n",
       "dtype: int64"
      ]
     },
     "execution_count": 12,
     "metadata": {
      "tags": []
     },
     "output_type": "execute_result"
    }
   ],
   "source": [
    "# Used to count the number of rows before removing the data\n",
    "df1.count() "
   ]
  },
  {
   "cell_type": "code",
   "execution_count": 13,
   "metadata": {
    "colab": {
     "base_uri": "https://localhost:8080/",
     "height": 219
    },
    "id": "YkOC9FRNjwGq",
    "outputId": "afd52357-4c37-4af0-8199-57be2dd37911"
   },
   "outputs": [
    {
     "data": {
      "text/html": [
       "<div>\n",
       "<style scoped>\n",
       "    .dataframe tbody tr th:only-of-type {\n",
       "        vertical-align: middle;\n",
       "    }\n",
       "\n",
       "    .dataframe tbody tr th {\n",
       "        vertical-align: top;\n",
       "    }\n",
       "\n",
       "    .dataframe thead th {\n",
       "        text-align: right;\n",
       "    }\n",
       "</style>\n",
       "<table border=\"1\" class=\"dataframe\">\n",
       "  <thead>\n",
       "    <tr style=\"text-align: right;\">\n",
       "      <th></th>\n",
       "      <th>IFC investment for Risk Management(Million - USD)</th>\n",
       "      <th>IFC investment for Guarantee(Million - USD)</th>\n",
       "      <th>IFC investment for Loan(Million - USD)</th>\n",
       "      <th>IFC investment for Equity(Million - USD)</th>\n",
       "      <th>Total IFC investment as approved by Board(Million - USD)</th>\n",
       "    </tr>\n",
       "  </thead>\n",
       "  <tbody>\n",
       "    <tr>\n",
       "      <th>0</th>\n",
       "      <td>NaN</td>\n",
       "      <td>NaN</td>\n",
       "      <td>41.19</td>\n",
       "      <td>NaN</td>\n",
       "      <td>41.19</td>\n",
       "    </tr>\n",
       "    <tr>\n",
       "      <th>1</th>\n",
       "      <td>NaN</td>\n",
       "      <td>NaN</td>\n",
       "      <td>10.20</td>\n",
       "      <td>32.2</td>\n",
       "      <td>42.40</td>\n",
       "    </tr>\n",
       "    <tr>\n",
       "      <th>2</th>\n",
       "      <td>NaN</td>\n",
       "      <td>NaN</td>\n",
       "      <td>NaN</td>\n",
       "      <td>NaN</td>\n",
       "      <td>NaN</td>\n",
       "    </tr>\n",
       "    <tr>\n",
       "      <th>3</th>\n",
       "      <td>NaN</td>\n",
       "      <td>NaN</td>\n",
       "      <td>46.66</td>\n",
       "      <td>NaN</td>\n",
       "      <td>46.66</td>\n",
       "    </tr>\n",
       "    <tr>\n",
       "      <th>5</th>\n",
       "      <td>NaN</td>\n",
       "      <td>NaN</td>\n",
       "      <td>74.38</td>\n",
       "      <td>NaN</td>\n",
       "      <td>74.38</td>\n",
       "    </tr>\n",
       "  </tbody>\n",
       "</table>\n",
       "</div>"
      ],
      "text/plain": [
       "   IFC investment for Risk Management(Million - USD)  ...  Total IFC investment as approved by Board(Million - USD)\n",
       "0                                                NaN  ...                                              41.19       \n",
       "1                                                NaN  ...                                              42.40       \n",
       "2                                                NaN  ...                                                NaN       \n",
       "3                                                NaN  ...                                              46.66       \n",
       "5                                                NaN  ...                                              74.38       \n",
       "\n",
       "[5 rows x 5 columns]"
      ]
     },
     "execution_count": 13,
     "metadata": {
      "tags": []
     },
     "output_type": "execute_result"
    }
   ],
   "source": [
    "# Dropping the duplicates \n",
    "df2 = df1.drop_duplicates()\n",
    "df2.head(5)"
   ]
  },
  {
   "cell_type": "code",
   "execution_count": 14,
   "metadata": {
    "colab": {
     "base_uri": "https://localhost:8080/"
    },
    "id": "LLv9Y-nyjwTg",
    "outputId": "f2d9bc02-8dd6-4e4d-e5c9-cafad48bb0f4"
   },
   "outputs": [
    {
     "data": {
      "text/plain": [
       "IFC investment for Risk Management(Million - USD)             4\n",
       "IFC investment for Guarantee(Million - USD)                   3\n",
       "IFC investment for Loan(Million - USD)                      166\n",
       "IFC investment for Equity(Million - USD)                    145\n",
       "Total IFC investment as approved by Board(Million - USD)    246\n",
       "dtype: int64"
      ]
     },
     "execution_count": 14,
     "metadata": {
      "tags": []
     },
     "output_type": "execute_result"
    }
   ],
   "source": [
    "# Counting the number of rows after removing duplicates.\n",
    "df2.count()\n"
   ]
  },
  {
   "cell_type": "code",
   "execution_count": 15,
   "metadata": {
    "colab": {
     "base_uri": "https://localhost:8080/"
    },
    "id": "2wufMBQ8jwWD",
    "outputId": "480b410e-f73d-4d44-81b7-025bb0ea2a91"
   },
   "outputs": [
    {
     "name": "stdout",
     "output_type": "stream",
     "text": [
      "IFC investment for Risk Management(Million - USD)           243\n",
      "IFC investment for Guarantee(Million - USD)                 244\n",
      "IFC investment for Loan(Million - USD)                       81\n",
      "IFC investment for Equity(Million - USD)                    102\n",
      "Total IFC investment as approved by Board(Million - USD)      1\n",
      "dtype: int64\n"
     ]
    }
   ],
   "source": [
    "\n",
    "# Finding the null values.\n",
    "print(df2.isnull().sum())"
   ]
  },
  {
   "cell_type": "code",
   "execution_count": 17,
   "metadata": {
    "colab": {
     "base_uri": "https://localhost:8080/",
     "height": 433
    },
    "id": "cJStlbZgjwYi",
    "outputId": "e5d2a610-b2a6-456f-98f9-6683cbbcdd2c"
   },
   "outputs": [
    {
     "data": {
      "text/html": [
       "<div>\n",
       "<style scoped>\n",
       "    .dataframe tbody tr th:only-of-type {\n",
       "        vertical-align: middle;\n",
       "    }\n",
       "\n",
       "    .dataframe tbody tr th {\n",
       "        vertical-align: top;\n",
       "    }\n",
       "\n",
       "    .dataframe thead th {\n",
       "        text-align: right;\n",
       "    }\n",
       "</style>\n",
       "<table border=\"1\" class=\"dataframe\">\n",
       "  <thead>\n",
       "    <tr style=\"text-align: right;\">\n",
       "      <th></th>\n",
       "      <th>IFC investment for Risk Management(Million - USD)</th>\n",
       "      <th>IFC investment for Guarantee(Million - USD)</th>\n",
       "      <th>IFC investment for Loan(Million - USD)</th>\n",
       "      <th>IFC investment for Equity(Million - USD)</th>\n",
       "      <th>Total IFC investment as approved by Board(Million - USD)</th>\n",
       "    </tr>\n",
       "  </thead>\n",
       "  <tbody>\n",
       "    <tr>\n",
       "      <th>0</th>\n",
       "      <td>21.625</td>\n",
       "      <td>39.583333</td>\n",
       "      <td>41.190000</td>\n",
       "      <td>19.723034</td>\n",
       "      <td>41.190000</td>\n",
       "    </tr>\n",
       "    <tr>\n",
       "      <th>1</th>\n",
       "      <td>21.625</td>\n",
       "      <td>39.583333</td>\n",
       "      <td>10.200000</td>\n",
       "      <td>32.200000</td>\n",
       "      <td>42.400000</td>\n",
       "    </tr>\n",
       "    <tr>\n",
       "      <th>2</th>\n",
       "      <td>21.625</td>\n",
       "      <td>39.583333</td>\n",
       "      <td>42.862229</td>\n",
       "      <td>19.723034</td>\n",
       "      <td>41.383049</td>\n",
       "    </tr>\n",
       "    <tr>\n",
       "      <th>3</th>\n",
       "      <td>21.625</td>\n",
       "      <td>39.583333</td>\n",
       "      <td>46.660000</td>\n",
       "      <td>19.723034</td>\n",
       "      <td>46.660000</td>\n",
       "    </tr>\n",
       "    <tr>\n",
       "      <th>5</th>\n",
       "      <td>21.625</td>\n",
       "      <td>39.583333</td>\n",
       "      <td>74.380000</td>\n",
       "      <td>19.723034</td>\n",
       "      <td>74.380000</td>\n",
       "    </tr>\n",
       "    <tr>\n",
       "      <th>...</th>\n",
       "      <td>...</td>\n",
       "      <td>...</td>\n",
       "      <td>...</td>\n",
       "      <td>...</td>\n",
       "      <td>...</td>\n",
       "    </tr>\n",
       "    <tr>\n",
       "      <th>373</th>\n",
       "      <td>21.625</td>\n",
       "      <td>39.583333</td>\n",
       "      <td>8.000000</td>\n",
       "      <td>2.000000</td>\n",
       "      <td>10.000000</td>\n",
       "    </tr>\n",
       "    <tr>\n",
       "      <th>374</th>\n",
       "      <td>21.625</td>\n",
       "      <td>39.583333</td>\n",
       "      <td>30.000000</td>\n",
       "      <td>0.000000</td>\n",
       "      <td>30.000000</td>\n",
       "    </tr>\n",
       "    <tr>\n",
       "      <th>376</th>\n",
       "      <td>21.625</td>\n",
       "      <td>39.583333</td>\n",
       "      <td>9.000000</td>\n",
       "      <td>19.723034</td>\n",
       "      <td>9.000000</td>\n",
       "    </tr>\n",
       "    <tr>\n",
       "      <th>377</th>\n",
       "      <td>21.625</td>\n",
       "      <td>50.000000</td>\n",
       "      <td>42.862229</td>\n",
       "      <td>20.000000</td>\n",
       "      <td>70.000000</td>\n",
       "    </tr>\n",
       "    <tr>\n",
       "      <th>380</th>\n",
       "      <td>21.625</td>\n",
       "      <td>39.583333</td>\n",
       "      <td>10.000000</td>\n",
       "      <td>2.410000</td>\n",
       "      <td>12.410000</td>\n",
       "    </tr>\n",
       "  </tbody>\n",
       "</table>\n",
       "<p>247 rows × 5 columns</p>\n",
       "</div>"
      ],
      "text/plain": [
       "     IFC investment for Risk Management(Million - USD)  ...  Total IFC investment as approved by Board(Million - USD)\n",
       "0                                               21.625  ...                                          41.190000       \n",
       "1                                               21.625  ...                                          42.400000       \n",
       "2                                               21.625  ...                                          41.383049       \n",
       "3                                               21.625  ...                                          46.660000       \n",
       "5                                               21.625  ...                                          74.380000       \n",
       "..                                                 ...  ...                                                ...       \n",
       "373                                             21.625  ...                                          10.000000       \n",
       "374                                             21.625  ...                                          30.000000       \n",
       "376                                             21.625  ...                                           9.000000       \n",
       "377                                             21.625  ...                                          70.000000       \n",
       "380                                             21.625  ...                                          12.410000       \n",
       "\n",
       "[247 rows x 5 columns]"
      ]
     },
     "execution_count": 17,
     "metadata": {
      "tags": []
     },
     "output_type": "execute_result"
    }
   ],
   "source": [
    "#Replacing all the NAN values in the columns with its mean valuea\n",
    "df3 = df2.fillna(df2.mean())\n",
    "df3"
   ]
  },
  {
   "cell_type": "code",
   "execution_count": 18,
   "metadata": {
    "colab": {
     "base_uri": "https://localhost:8080/",
     "height": 1000
    },
    "id": "TJ5v9g62jwis",
    "outputId": "72ea6397-e87a-4310-8d4d-f629ec43cd08"
   },
   "outputs": [
    {
     "data": {
      "text/html": [
       "<div>\n",
       "<style scoped>\n",
       "    .dataframe tbody tr th:only-of-type {\n",
       "        vertical-align: middle;\n",
       "    }\n",
       "\n",
       "    .dataframe tbody tr th {\n",
       "        vertical-align: top;\n",
       "    }\n",
       "\n",
       "    .dataframe thead th {\n",
       "        text-align: right;\n",
       "    }\n",
       "</style>\n",
       "<table border=\"1\" class=\"dataframe\">\n",
       "  <thead>\n",
       "    <tr style=\"text-align: right;\">\n",
       "      <th></th>\n",
       "      <th>IFC investment for Risk Management(Million - USD)</th>\n",
       "      <th>IFC investment for Guarantee(Million - USD)</th>\n",
       "      <th>IFC investment for Loan(Million - USD)</th>\n",
       "      <th>IFC investment for Equity(Million - USD)</th>\n",
       "      <th>Total IFC investment as approved by Board(Million - USD)</th>\n",
       "    </tr>\n",
       "  </thead>\n",
       "  <tbody>\n",
       "    <tr>\n",
       "      <th>IFC investment for Risk Management(Million - USD)</th>\n",
       "      <td>1.000000</td>\n",
       "      <td>0.000000</td>\n",
       "      <td>-0.006723</td>\n",
       "      <td>0.000000</td>\n",
       "      <td>-0.012343</td>\n",
       "    </tr>\n",
       "    <tr>\n",
       "      <th>IFC investment for Guarantee(Million - USD)</th>\n",
       "      <td>0.000000</td>\n",
       "      <td>1.000000</td>\n",
       "      <td>-0.037008</td>\n",
       "      <td>0.000174</td>\n",
       "      <td>0.065814</td>\n",
       "    </tr>\n",
       "    <tr>\n",
       "      <th>IFC investment for Loan(Million - USD)</th>\n",
       "      <td>-0.006723</td>\n",
       "      <td>-0.037008</td>\n",
       "      <td>1.000000</td>\n",
       "      <td>0.112732</td>\n",
       "      <td>0.844951</td>\n",
       "    </tr>\n",
       "    <tr>\n",
       "      <th>IFC investment for Equity(Million - USD)</th>\n",
       "      <td>0.000000</td>\n",
       "      <td>0.000174</td>\n",
       "      <td>0.112732</td>\n",
       "      <td>1.000000</td>\n",
       "      <td>0.504501</td>\n",
       "    </tr>\n",
       "    <tr>\n",
       "      <th>Total IFC investment as approved by Board(Million - USD)</th>\n",
       "      <td>-0.012343</td>\n",
       "      <td>0.065814</td>\n",
       "      <td>0.844951</td>\n",
       "      <td>0.504501</td>\n",
       "      <td>1.000000</td>\n",
       "    </tr>\n",
       "  </tbody>\n",
       "</table>\n",
       "</div>"
      ],
      "text/plain": [
       "                                                    IFC investment for Risk Management(Million - USD)  ...  Total IFC investment as approved by Board(Million - USD)\n",
       "IFC investment for Risk Management(Million - USD)                                            1.000000  ...                                          -0.012343       \n",
       "IFC investment for Guarantee(Million - USD)                                                  0.000000  ...                                           0.065814       \n",
       "IFC investment for Loan(Million - USD)                                                      -0.006723  ...                                           0.844951       \n",
       "IFC investment for Equity(Million - USD)                                                     0.000000  ...                                           0.504501       \n",
       "Total IFC investment as approved by Board(Milli...                                          -0.012343  ...                                           1.000000       \n",
       "\n",
       "[5 rows x 5 columns]"
      ]
     },
     "execution_count": 18,
     "metadata": {
      "tags": []
     },
     "output_type": "execute_result"
    },
    {
     "data": {
      "image/png": "[encoded data removed]",
      "text/plain": [
       "<Figure size 720x720 with 2 Axes>"
      ]
     },
     "metadata": {
      "tags": []
     },
     "output_type": "display_data"
    }
   ],
   "source": [
    "# Finding the relations between the variables.\n",
    "plt.figure(figsize=(10,10))\n",
    "c= df3.corr()\n",
    "sns.heatmap(c,cmap=\"BrBG\",annot=True)\n",
    "c\n"
   ]
  },
  {
   "cell_type": "code",
   "execution_count": 19,
   "metadata": {
    "colab": {
     "base_uri": "https://localhost:8080/",
     "height": 403
    },
    "id": "9M1SYMrpjwla",
    "outputId": "17190526-319e-4161-ee3a-784dab8e2aa5"
   },
   "outputs": [
    {
     "data": {
      "image/png": "[encoded data removed]",
      "text/plain": [
       "<Figure size 720x432 with 1 Axes>"
      ]
     },
     "metadata": {
      "tags": []
     },
     "output_type": "display_data"
    }
   ],
   "source": [
    "# Plotting a scatter plot\n",
    "fig, ax = plt.subplots(figsize=(10,6))\n",
    "ax.scatter(df3['IFC investment for Loan(Million - USD)'], df3['Total IFC investment as approved by Board(Million - USD)'])\n",
    "ax.set_xlabel('IFC investment for Loan(Million - USD)')\n",
    "ax.set_ylabel('Total IFC investment as approved by Board(Million - USD)')\n",
    "plt.show()"
   ]
  },
  {
   "cell_type": "code",
   "execution_count": null,
   "metadata": {
    "colab": {
     "base_uri": "https://localhost:8080/",
     "height": 403
    },
    "id": "AdVbgr3gjwnq",
    "outputId": "a67a5af8-a6b2-464b-fda4-81b313aca87a"
   },
   "outputs": [
    {
     "data": {
      "image/png": "[encoded data removed]",
      "text/plain": [
       "<Figure size 720x432 with 1 Axes>"
      ]
     },
     "metadata": {
      "tags": []
     },
     "output_type": "display_data"
    }
   ],
   "source": [
    "fig, ax = plt.subplots(figsize=(10,6))\n",
    "ax.scatter(df3['IFC investment for Equity(Million - USD)'], df3['Total IFC investment as approved by Board(Million - USD)'])\n",
    "ax.set_xlabel('IFC investment for Equity(Million - USD)')\n",
    "ax.set_ylabel('Total IFC investment as approved by Board(Million - USD)')\n",
    "plt.show()"
   ]
  },
  {
   "cell_type": "code",
   "execution_count": 20,
   "metadata": {
    "id": "KradYy4njwp6"
   },
   "outputs": [],
   "source": [
    "X = df3[['IFC investment for Risk Management(Million - USD)','IFC investment for Guarantee(Million - USD)','IFC investment for Loan(Million - USD)','IFC investment for Equity(Million - USD)']]\n",
    "Y = df3['Total IFC investment as approved by Board(Million - USD)']"
   ]
  },
  {
   "cell_type": "code",
   "execution_count": null,
   "metadata": {
    "colab": {
     "base_uri": "https://localhost:8080/",
     "height": 433
    },
    "id": "VX8Jg2GynHdi",
    "outputId": "1faa714e-bc53-4769-af69-eef26c981047"
   },
   "outputs": [
    {
     "data": {
      "text/html": [
       "<div>\n",
       "<style scoped>\n",
       "    .dataframe tbody tr th:only-of-type {\n",
       "        vertical-align: middle;\n",
       "    }\n",
       "\n",
       "    .dataframe tbody tr th {\n",
       "        vertical-align: top;\n",
       "    }\n",
       "\n",
       "    .dataframe thead th {\n",
       "        text-align: right;\n",
       "    }\n",
       "</style>\n",
       "<table border=\"1\" class=\"dataframe\">\n",
       "  <thead>\n",
       "    <tr style=\"text-align: right;\">\n",
       "      <th></th>\n",
       "      <th>IFC investment for Risk Management(Million - USD)</th>\n",
       "      <th>IFC investment for Guarantee(Million - USD)</th>\n",
       "      <th>IFC investment for Loan(Million - USD)</th>\n",
       "      <th>IFC investment for Equity(Million - USD)</th>\n",
       "    </tr>\n",
       "  </thead>\n",
       "  <tbody>\n",
       "    <tr>\n",
       "      <th>0</th>\n",
       "      <td>21.625</td>\n",
       "      <td>39.583333</td>\n",
       "      <td>41.190000</td>\n",
       "      <td>18.575714</td>\n",
       "    </tr>\n",
       "    <tr>\n",
       "      <th>1</th>\n",
       "      <td>21.625</td>\n",
       "      <td>39.583333</td>\n",
       "      <td>10.200000</td>\n",
       "      <td>32.200000</td>\n",
       "    </tr>\n",
       "    <tr>\n",
       "      <th>2</th>\n",
       "      <td>21.625</td>\n",
       "      <td>39.583333</td>\n",
       "      <td>45.779091</td>\n",
       "      <td>18.575714</td>\n",
       "    </tr>\n",
       "    <tr>\n",
       "      <th>3</th>\n",
       "      <td>21.625</td>\n",
       "      <td>39.583333</td>\n",
       "      <td>46.660000</td>\n",
       "      <td>18.575714</td>\n",
       "    </tr>\n",
       "    <tr>\n",
       "      <th>5</th>\n",
       "      <td>21.625</td>\n",
       "      <td>39.583333</td>\n",
       "      <td>74.380000</td>\n",
       "      <td>18.575714</td>\n",
       "    </tr>\n",
       "    <tr>\n",
       "      <th>...</th>\n",
       "      <td>...</td>\n",
       "      <td>...</td>\n",
       "      <td>...</td>\n",
       "      <td>...</td>\n",
       "    </tr>\n",
       "    <tr>\n",
       "      <th>373</th>\n",
       "      <td>21.625</td>\n",
       "      <td>39.583333</td>\n",
       "      <td>8.000000</td>\n",
       "      <td>2.000000</td>\n",
       "    </tr>\n",
       "    <tr>\n",
       "      <th>374</th>\n",
       "      <td>21.625</td>\n",
       "      <td>39.583333</td>\n",
       "      <td>30.000000</td>\n",
       "      <td>0.000000</td>\n",
       "    </tr>\n",
       "    <tr>\n",
       "      <th>376</th>\n",
       "      <td>21.625</td>\n",
       "      <td>39.583333</td>\n",
       "      <td>9.000000</td>\n",
       "      <td>18.575714</td>\n",
       "    </tr>\n",
       "    <tr>\n",
       "      <th>377</th>\n",
       "      <td>21.625</td>\n",
       "      <td>50.000000</td>\n",
       "      <td>45.779091</td>\n",
       "      <td>20.000000</td>\n",
       "    </tr>\n",
       "    <tr>\n",
       "      <th>380</th>\n",
       "      <td>21.625</td>\n",
       "      <td>39.583333</td>\n",
       "      <td>10.000000</td>\n",
       "      <td>2.410000</td>\n",
       "    </tr>\n",
       "  </tbody>\n",
       "</table>\n",
       "<p>247 rows × 4 columns</p>\n",
       "</div>"
      ],
      "text/plain": [
       "     IFC investment for Risk Management(Million - USD)  ...  IFC investment for Equity(Million - USD)\n",
       "0                                               21.625  ...                                 18.575714\n",
       "1                                               21.625  ...                                 32.200000\n",
       "2                                               21.625  ...                                 18.575714\n",
       "3                                               21.625  ...                                 18.575714\n",
       "5                                               21.625  ...                                 18.575714\n",
       "..                                                 ...  ...                                       ...\n",
       "373                                             21.625  ...                                  2.000000\n",
       "374                                             21.625  ...                                  0.000000\n",
       "376                                             21.625  ...                                 18.575714\n",
       "377                                             21.625  ...                                 20.000000\n",
       "380                                             21.625  ...                                  2.410000\n",
       "\n",
       "[247 rows x 4 columns]"
      ]
     },
     "execution_count": 39,
     "metadata": {
      "tags": []
     },
     "output_type": "execute_result"
    }
   ],
   "source": [
    "X"
   ]
  },
  {
   "cell_type": "code",
   "execution_count": null,
   "metadata": {
    "colab": {
     "base_uri": "https://localhost:8080/"
    },
    "id": "L-J7ZyrDnV9K",
    "outputId": "b7259480-037e-4fdd-ceb2-54632bfd3c60"
   },
   "outputs": [
    {
     "data": {
      "text/plain": [
       "0      41.190000\n",
       "1      42.400000\n",
       "2      40.446179\n",
       "3      46.660000\n",
       "5      74.380000\n",
       "         ...    \n",
       "373    10.000000\n",
       "374    30.000000\n",
       "376     9.000000\n",
       "377    70.000000\n",
       "380    12.410000\n",
       "Name: Total IFC investment as approved by Board(Million - USD), Length: 247, dtype: float64"
      ]
     },
     "execution_count": 40,
     "metadata": {
      "tags": []
     },
     "output_type": "execute_result"
    }
   ],
   "source": [
    "Y"
   ]
  },
  {
   "cell_type": "code",
   "execution_count": null,
   "metadata": {
    "id": "Ti24NyPEQw2g"
   },
   "outputs": [],
   "source": []
  },
  {
   "cell_type": "markdown",
   "metadata": {
    "id": "HONMQ9B7Qx4q"
   },
   "source": [
    "**Multiple Linear Regression**"
   ]
  },
  {
   "cell_type": "code",
   "execution_count": 21,
   "metadata": {
    "colab": {
     "base_uri": "https://localhost:8080/"
    },
    "id": "hMe_HxhlfJiT",
    "outputId": "11e11818-c461-4558-aa20-279a125e24bb"
   },
   "outputs": [
    {
     "name": "stderr",
     "output_type": "stream",
     "text": [
      "/usr/local/lib/python3.7/dist-packages/statsmodels/tools/_testing.py:19: FutureWarning: pandas.util.testing is deprecated. Use the functions in the public API at pandas.testing instead.\n",
      "  import pandas.util.testing as tm\n"
     ]
    },
    {
     "name": "stdout",
     "output_type": "stream",
     "text": [
      "Intercept: \n",
      " -76.20223655088688\n",
      "Coefficients: \n",
      " [-0.22289219  1.58154057  0.95905711  0.94789453]\n"
     ]
    }
   ],
   "source": [
    "from sklearn import linear_model\n",
    "import statsmodels.api as sm\n",
    "\n",
    "regr = linear_model.LinearRegression()\n",
    "regr.fit(X, Y)\n",
    "\n",
    "print('Intercept: \\n', regr.intercept_)\n",
    "print('Coefficients: \\n', regr.coef_)"
   ]
  },
  {
   "cell_type": "code",
   "execution_count": 22,
   "metadata": {
    "colab": {
     "base_uri": "https://localhost:8080/"
    },
    "id": "AFzy8tOPm42A",
    "outputId": "4ab695b9-9c2f-4523-c7bb-4ed8c33c9ee0"
   },
   "outputs": [
    {
     "name": "stdout",
     "output_type": "stream",
     "text": [
      "Total IFC investment that will be  approved by Board(Million - USD [43.93778879]\n"
     ]
    }
   ],
   "source": [
    "# prediction with sklearn\n",
    "New_IFC_investment_Risk_Management=21.625\n",
    "New_IFC_investment_Guarantee=39.583333\n",
    "New_IFC_investment_Loan = 46.660000\t\n",
    "New_IFC_investment_Equity = 18.575714\n",
    "print ('Total IFC investment that will be  approved by Board(Million - USD', regr.predict([[New_IFC_investment_Risk_Management,New_IFC_investment_Guarantee,New_IFC_investment_Loan ,New_IFC_investment_Equity]]))"
   ]
  },
  {
   "cell_type": "code",
   "execution_count": 23,
   "metadata": {
    "colab": {
     "base_uri": "https://localhost:8080/"
    },
    "id": "kSO_iUqDnDJv",
    "outputId": "ebdfc07d-1fe7-4524-c686-f62283bd3e74"
   },
   "outputs": [
    {
     "name": "stdout",
     "output_type": "stream",
     "text": [
      "                                               OLS Regression Results                                               \n",
      "====================================================================================================================\n",
      "Dep. Variable:     Total IFC investment as approved by Board(Million - USD)   R-squared:                       0.893\n",
      "Model:                                                                  OLS   Adj. R-squared:                  0.891\n",
      "Method:                                                       Least Squares   F-statistic:                     503.5\n",
      "Date:                                                      Tue, 20 Apr 2021   Prob (F-statistic):          5.37e-116\n",
      "Time:                                                              13:11:34   Log-Likelihood:                -1043.5\n",
      "No. Observations:                                                       247   AIC:                             2097.\n",
      "Df Residuals:                                                           242   BIC:                             2114.\n",
      "Df Model:                                                                 4                                         \n",
      "Covariance Type:                                                  nonrobust                                         \n",
      "=====================================================================================================================\n",
      "                                                        coef    std err          t      P>|t|      [0.025      0.975]\n",
      "---------------------------------------------------------------------------------------------------------------------\n",
      "const                                               -76.2022     20.210     -3.771      0.000    -116.012     -36.392\n",
      "IFC investment for Risk Management(Million - USD)    -0.2229      0.675     -0.330      0.742      -1.552       1.107\n",
      "IFC investment for Guarantee(Million - USD)           1.5815      0.349      4.529      0.000       0.894       2.269\n",
      "IFC investment for Loan(Million - USD)                0.9591      0.025     37.810      0.000       0.909       1.009\n",
      "IFC investment for Equity(Million - USD)              0.9479      0.049     19.542      0.000       0.852       1.043\n",
      "==============================================================================\n",
      "Omnibus:                      282.059   Durbin-Watson:                   1.796\n",
      "Prob(Omnibus):                  0.000   Jarque-Bera (JB):               18.333\n",
      "Skew:                          -0.113   Prob(JB):                     0.000105\n",
      "Kurtosis:                       1.685   Cond. No.                     1.38e+03\n",
      "==============================================================================\n",
      "\n",
      "Warnings:\n",
      "[1] Standard Errors assume that the covariance matrix of the errors is correctly specified.\n",
      "[2] The condition number is large, 1.38e+03. This might indicate that there are\n",
      "strong multicollinearity or other numerical problems.\n"
     ]
    }
   ],
   "source": [
    "#displays a comprehensive table with statistical info generated by statsmodels.\n",
    "'''This information can provide you additional insights about the model \n",
    "used (such as the fit of the model, standard errors, etc):\n",
    "\n",
    "'''\n",
    "X = sm.add_constant(X) # adding a constant\n",
    " \n",
    "model = sm.OLS(Y, X).fit()\n",
    "predictions = model.predict(X) \n",
    " \n",
    "print_model = model.summary()\n",
    "print(print_model)"
   ]
  },
  {
   "cell_type": "code",
   "execution_count": null,
   "metadata": {
    "id": "SmM3nVUungbr"
   },
   "outputs": [],
   "source": []
  }
 ],
 "metadata": {
  "colab": {
   "name": "future_investement_prediction.ipynb",
   "provenance": []
  },
  "kernelspec": {
   "display_name": "Python 3",
   "language": "python",
   "name": "python3"
  },
  "language_info": {
   "codemirror_mode": {
    "name": "ipython",
    "version": 3
   },
   "file_extension": ".py",
   "mimetype": "text/x-python",
   "name": "python",
   "nbconvert_exporter": "python",
   "pygments_lexer": "ipython3",
   "version": "3.8.6"
  }
 },
 "nbformat": 4,
 "nbformat_minor": 1
}
